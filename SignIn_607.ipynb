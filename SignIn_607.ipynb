{
  "nbformat": 4,
  "nbformat_minor": 0,
  "metadata": {
    "colab": {
      "provenance": []
    },
    "kernelspec": {
      "name": "python3",
      "display_name": "Python 3"
    },
    "language_info": {
      "name": "python"
    }
  },
  "cells": [
    {
      "cell_type": "code",
      "execution_count": 10,
      "metadata": {
        "id": "AeO0H6xFIsuc"
      },
      "outputs": [],
      "source": [
        "import json"
      ]
    },
    {
      "cell_type": "code",
      "source": [
        "special_characters = [\"*\", \"?\", \"!\", \"#\", \"&\", \"=\", \"(\", \")\", \"_\", \"-\"]\n",
        "\n",
        "def validate_password(password): \n",
        "  # eliminate spaces\n",
        "  present_spaces = password.find(\" \")\n",
        "  if present_spaces > -1:\n",
        "    raise ValueError(\"Invalid password. Password contains spaces.\")\n",
        "  \n",
        "  # validate length\n",
        "  if len(password) < 8:\n",
        "    raise ValueError(\"Invalid password. Password too short. Minimum 8 characters required.\")\n",
        "  \n",
        "  # validate special characters\n",
        "  present_special = 0\n",
        "  present_digits = 0\n",
        "  present_upper = 0\n",
        "  for character in password:\n",
        "    if character in special_characters:\n",
        "      present_special += 1 # present_special_characters = present_special_characters + 1\n",
        "    \n",
        "    if character.isdigit():\n",
        "      present_digits += 1\n",
        "\n",
        "    if character.isupper():\n",
        "      present_upper += 1\n",
        "\n",
        "    if present_special and present_digits and present_upper:\n",
        "      break\n",
        "\n",
        "  if present_special == 0:\n",
        "    raise ValueError(\"Invalid password. Special characters are missing.\")\n",
        "\n",
        "  if present_digits == 0:\n",
        "    raise ValueError(\"Invalid password. Missing at least one digit.\")\n",
        "\n",
        "  if present_upper == 0:\n",
        "    raise ValueError(\"Invalid password. Missing at least one upper case letter.\")\n",
        "\n",
        "  return password"
      ],
      "metadata": {
        "id": "CQhddG0GJmG0"
      },
      "execution_count": 11,
      "outputs": []
    },
    {
      "cell_type": "code",
      "source": [
        "def validate_email(email):\n",
        "  email = email.lower()\n",
        "  email = email.replace(\" \", \"\")\n",
        "\n",
        "  email_parts = email.split(\"@\")\n",
        "\n",
        "  if len(email_parts) > 2:\n",
        "    raise ValueError(\"Email is not formatted correctly. Please try again.\")\n",
        "  \n",
        "  second_part = email_parts[1]\n",
        "\n",
        "  email_ending = second_part.split(\".\")\n",
        "\n",
        "  if len(email_ending) > 2:\n",
        "    raise ValueError(\"Email is not formatted correctly. Please try again.\")\n",
        "\n",
        "  return email"
      ],
      "metadata": {
        "id": "Ua5zjitTJpFK"
      },
      "execution_count": 12,
      "outputs": []
    },
    {
      "cell_type": "code",
      "source": [
        "def is_unique(user, all_users):\n",
        "  for existing_user in all_users:\n",
        "    if existing_user[\"email\"] == user[\"email\"]:\n",
        "      return False \n",
        "  \n",
        "  return True\n",
        "  \n",
        "def save_to_file(user, filename):\n",
        "  user[\"email\"] = validate_email(user[\"email\"])\n",
        "  user[\"password\"] = validate_password(user[\"password\"])\n",
        "  if user[\"password\"] != user[\"second_password\"]: \n",
        "    raise ValueError(\"Password mismatch. Try again using the same password.\")\n",
        "\n",
        "  with open(filename, \"r\") as f:\n",
        "    try:\n",
        "      existing_users = json.load(f)\n",
        "    except Exception as e:\n",
        "      existing_users = []\n",
        "      print(f\"--Warning! Something went wrong with loading data. Cause: {e}. Existing users initialised as [].\")\n",
        "\n",
        "    if not is_unique(user, existing_users):\n",
        "      raise ValueError(\"User not unique\")\n",
        "\n",
        "  with open(filename, \"w\") as f:\n",
        "    existing_users.append(user)\n",
        "    json.dump(existing_users, f)"
      ],
      "metadata": {
        "id": "uNr81h-tJpZ6"
      },
      "execution_count": 19,
      "outputs": []
    },
    {
      "cell_type": "code",
      "source": [
        "# load users\n",
        "def load_users(filename):\n",
        "  with open(filename, \"r\") as f:\n",
        "    users = json.load(f)\n",
        "  return users\n",
        "\n",
        "# extragem utilizator dupa email \n",
        "def get_user_by_email(email, users):\n",
        "  for user in users:\n",
        "    if user[\"email\"] == email:\n",
        "      return user \n",
        "\n",
        "# signin\n",
        "# 1. validate email\n",
        "# 2. daca user exista, verificam parola data == parola existenta => True. In caz contrar => False / Eroare\n",
        "def signin(user_details, filename):\n",
        "  user_details[\"email\"] = validate_email(user_details[\"email\"])\n",
        "\n",
        "  existing_users = load_users(filename)\n",
        "\n",
        "  user = get_user_by_email(user_details[\"email\"], existing_users)\n",
        "\n",
        "  if user is None or user[\"password\"] != user_details[\"password\"]:\n",
        "    return False\n",
        "\n",
        "  return True"
      ],
      "metadata": {
        "id": "26y-WlJlJtIy"
      },
      "execution_count": 14,
      "outputs": []
    },
    {
      "cell_type": "code",
      "source": [
        "request_body = {\n",
        "    \"name\": \"B C\",\n",
        "    \"email\": \"yer2@c.com\",\n",
        "    \"password\": \"ysfhreA31!_-33\",\n",
        "    \"second_password\": \"ysfhreA31!_-33\"\n",
        "}\n",
        "save_to_file(request_body, \"users.json\")"
      ],
      "metadata": {
        "id": "DJmoh4A0Lgxc"
      },
      "execution_count": 23,
      "outputs": []
    },
    {
      "cell_type": "code",
      "source": [
        "load_users(\"users.json\")"
      ],
      "metadata": {
        "id": "TyvmE6gcLq_6",
        "colab": {
          "base_uri": "https://localhost:8080/"
        },
        "outputId": "3f543278-4e56-426e-cc97-6d821c424d31"
      },
      "execution_count": 24,
      "outputs": [
        {
          "output_type": "execute_result",
          "data": {
            "text/plain": [
              "[{'name': 'B C',\n",
              "  'email': 'y@c.com',\n",
              "  'password': 'ysfhreA31!_-33',\n",
              "  'second_password': 'ysfhreA31!_-33'},\n",
              " {'name': 'B C',\n",
              "  'email': 'y2@c.com',\n",
              "  'password': 'ysfhreA31!_-33',\n",
              "  'second_password': 'ysfhreA31!_-33'},\n",
              " {'name': 'B C',\n",
              "  'email': 'ye2@c.com',\n",
              "  'password': 'ysfhreA31!_-33',\n",
              "  'second_password': 'ysfhreA31!_-33'},\n",
              " {'name': 'B C',\n",
              "  'email': 'yer2@c.com',\n",
              "  'password': 'ysfhreA31!_-33',\n",
              "  'second_password': 'ysfhreA31!_-33'}]"
            ]
          },
          "metadata": {},
          "execution_count": 24
        }
      ]
    },
    {
      "cell_type": "code",
      "source": [
        "user_details = {\n",
        "    \"email\": \"y@c.com\",\n",
        "    \"password\": \"ysfhreA31!_-33\" \n",
        "}\n",
        "signin(user_details, \"users.json\")"
      ],
      "metadata": {
        "colab": {
          "base_uri": "https://localhost:8080/"
        },
        "id": "WIpU3Mb6NTpb",
        "outputId": "50f94fd7-439e-45c9-f9ca-b52335725d71"
      },
      "execution_count": 29,
      "outputs": [
        {
          "output_type": "execute_result",
          "data": {
            "text/plain": [
              "True"
            ]
          },
          "metadata": {},
          "execution_count": 29
        }
      ]
    }
  ]
}