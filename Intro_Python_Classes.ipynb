{
  "nbformat": 4,
  "nbformat_minor": 0,
  "metadata": {
    "colab": {
      "provenance": []
    },
    "kernelspec": {
      "name": "python3",
      "display_name": "Python 3"
    },
    "language_info": {
      "name": "python"
    }
  },
  "cells": [
    {
      "cell_type": "code",
      "source": [
        "import json"
      ],
      "metadata": {
        "id": "BA-6DtltTXsk"
      },
      "execution_count": 16,
      "outputs": []
    },
    {
      "cell_type": "code",
      "execution_count": 17,
      "metadata": {
        "id": "KZYMpsJPPdGD"
      },
      "outputs": [],
      "source": [
        "class User:\n",
        "  \n",
        "  special_characters = [\"*\", \"?\", \"!\", \"#\", \"&\", \"=\", \"(\", \")\", \"_\", \"-\"]\n",
        "\n",
        "  def __init__(self, name, email, password, second_password):\n",
        "    self.name = name\n",
        "    self.email = email\n",
        "    self.password = password\n",
        "    self.second_password = second_password\n",
        "\n",
        "  def validate_email(self):\n",
        "    email = self.email.lower()\n",
        "    email = email.replace(\" \", \"\")\n",
        "\n",
        "    email_parts = email.split(\"@\")\n",
        "\n",
        "    if len(email_parts) > 2:\n",
        "      raise ValueError(\"Email is not formatted correctly. Please try again.\")\n",
        "    \n",
        "    second_part = email_parts[1]\n",
        "\n",
        "    email_ending = second_part.split(\".\")\n",
        "\n",
        "    if len(email_ending) > 2:\n",
        "      raise ValueError(\"Email is not formatted correctly. Please try again.\")\n",
        "\n",
        "    return email\n",
        "\n",
        "  def validate_password(self): \n",
        "    # eliminate spaces\n",
        "    present_spaces = self.password.find(\" \")\n",
        "    if present_spaces > -1:\n",
        "      raise ValueError(\"Invalid password. Password contains spaces.\")\n",
        "    \n",
        "    # validate length\n",
        "    if len(self.password) < 8:\n",
        "      raise ValueError(\"Invalid password. Password too short. Minimum 8 characters required.\")\n",
        "    \n",
        "    # validate special characters\n",
        "    present_special = 0\n",
        "    present_digits = 0\n",
        "    present_upper = 0\n",
        "    for character in self.password:\n",
        "      if character in self.special_characters:\n",
        "        present_special += 1 # present_special_characters = present_special_characters + 1\n",
        "      \n",
        "      if character.isdigit():\n",
        "        present_digits += 1\n",
        "\n",
        "      if character.isupper():\n",
        "        present_upper += 1\n",
        "\n",
        "      if present_special and present_digits and present_upper:\n",
        "        break\n",
        "\n",
        "    if present_special == 0:\n",
        "      raise ValueError(\"Invalid password. Special characters are missing.\")\n",
        "\n",
        "    if present_digits == 0:\n",
        "      raise ValueError(\"Invalid password. Missing at least one digit.\")\n",
        "\n",
        "    if present_upper == 0:\n",
        "      raise ValueError(\"Invalid password. Missing at least one upper case letter.\")\n",
        "\n",
        "    return self.password\n",
        "\n",
        "  def to_dict(self):\n",
        "    user_dict = {\n",
        "        \"name\": self.name,\n",
        "        \"email\": self.email,\n",
        "        \"password\": self.password,\n",
        "        \"second_password\": self.second_password\n",
        "    }\n",
        "    return user_dict\n",
        "\n",
        "  def to_json(self):\n",
        "    user_dict = self.to_dict()\n",
        "    user_json = json.dumps(user_dict)\n",
        "    return user_json\n",
        "\n",
        "  @classmethod\n",
        "  def from_dict(cls, user_dict):\n",
        "    obj = cls(user_dict[\"name\"], user_dict[\"email\"], user_dict[\"password\"], user_dict[\"second_password\"])\n",
        "    return obj\n",
        "  "
      ]
    },
    {
      "cell_type": "code",
      "source": [
        "user1 = User(name=\"A B\", email=\"a@v.com\", password=\"kdhn3#!AD3k--\", second_password=\"kdhn3#!AD3k--\")\n",
        "user1.special_characters"
      ],
      "metadata": {
        "colab": {
          "base_uri": "https://localhost:8080/"
        },
        "id": "hc0iNtMaQjj0",
        "outputId": "a6044773-2782-4390-d38f-884c9ddc4ea7"
      },
      "execution_count": 5,
      "outputs": [
        {
          "output_type": "execute_result",
          "data": {
            "text/plain": [
              "['*', '?', '!', '#', '&', '=', '(', ')', '_', '-']"
            ]
          },
          "metadata": {},
          "execution_count": 5
        }
      ]
    },
    {
      "cell_type": "code",
      "source": [
        "user2 = User(name=\"A B\", email=\"ta@v.com\", password=\"kdhn3#!AD3k--\", second_password=\"kdhn3#!AD3k--\")\n",
        "user2.special_characters"
      ],
      "metadata": {
        "colab": {
          "base_uri": "https://localhost:8080/"
        },
        "id": "6qsxxCyuR8Xs",
        "outputId": "25c53cc9-1ac6-44b8-f6a4-3f2834ea9698"
      },
      "execution_count": 8,
      "outputs": [
        {
          "output_type": "execute_result",
          "data": {
            "text/plain": [
              "['*', '?', '!', '#', '&', '=', '(', ')', '_', '-']"
            ]
          },
          "metadata": {},
          "execution_count": 8
        }
      ]
    },
    {
      "cell_type": "code",
      "source": [
        "User.special_characters = []"
      ],
      "metadata": {
        "id": "5XO3KA5SSEAT"
      },
      "execution_count": 10,
      "outputs": []
    },
    {
      "cell_type": "code",
      "source": [
        "user2.special_characters"
      ],
      "metadata": {
        "colab": {
          "base_uri": "https://localhost:8080/"
        },
        "id": "cuc75r_FSFiS",
        "outputId": "93d57fee-1277-4843-fb26-3bd57c796e8e"
      },
      "execution_count": 11,
      "outputs": [
        {
          "output_type": "execute_result",
          "data": {
            "text/plain": [
              "[]"
            ]
          },
          "metadata": {},
          "execution_count": 11
        }
      ]
    },
    {
      "cell_type": "code",
      "source": [
        "user1.special_characters.append(\"+\")\n",
        "user1.special_characters, User.special_characters"
      ],
      "metadata": {
        "colab": {
          "base_uri": "https://localhost:8080/"
        },
        "id": "kKbh13rtSJkS",
        "outputId": "45f432ad-7929-43b9-977f-31f1d6fe750f"
      },
      "execution_count": 13,
      "outputs": [
        {
          "output_type": "execute_result",
          "data": {
            "text/plain": [
              "(['+', '+'], ['+', '+'])"
            ]
          },
          "metadata": {},
          "execution_count": 13
        }
      ]
    },
    {
      "cell_type": "code",
      "source": [
        "user2.special_characters"
      ],
      "metadata": {
        "colab": {
          "base_uri": "https://localhost:8080/"
        },
        "id": "zHgpEz2wSTyC",
        "outputId": "24db7a22-514b-48a6-a4dd-8a246aa70a34"
      },
      "execution_count": 14,
      "outputs": [
        {
          "output_type": "execute_result",
          "data": {
            "text/plain": [
              "['+', '+']"
            ]
          },
          "metadata": {},
          "execution_count": 14
        }
      ]
    },
    {
      "cell_type": "code",
      "source": [
        "request_body = {\n",
        "    \"name\": \"B C\",\n",
        "    \"email\": \"yer2@c.com\",\n",
        "    \"password\": \"ysfhreA31!_-33\",\n",
        "    \"second_password\": \"ysfhreA31!_-33\"\n",
        "}\n",
        "\n",
        "user3 = User.from_dict(request_body)\n",
        "user3.email"
      ],
      "metadata": {
        "colab": {
          "base_uri": "https://localhost:8080/",
          "height": 35
        },
        "id": "gEiXJCplSZOS",
        "outputId": "e28d7422-e9e0-45a0-f15f-91a63b98c86f"
      },
      "execution_count": 19,
      "outputs": [
        {
          "output_type": "execute_result",
          "data": {
            "text/plain": [
              "'yer2@c.com'"
            ],
            "application/vnd.google.colaboratory.intrinsic+json": {
              "type": "string"
            }
          },
          "metadata": {},
          "execution_count": 19
        }
      ]
    },
    {
      "cell_type": "code",
      "source": [],
      "metadata": {
        "id": "Bkuu52_HVCl1"
      },
      "execution_count": null,
      "outputs": []
    }
  ]
}